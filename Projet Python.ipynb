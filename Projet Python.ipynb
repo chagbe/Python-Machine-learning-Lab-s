{
 "cells": [
  {
   "cell_type": "markdown",
   "id": "c9b616a7",
   "metadata": {},
   "source": [
    "# Course : Python Machine learning Lab's. "
   ]
  },
  {
   "cell_type": "markdown",
   "id": "4d95ff85",
   "metadata": {},
   "source": [
    "# Project : Book's average rating prediction"
   ]
  },
  {
   "cell_type": "markdown",
   "id": "28470c10",
   "metadata": {},
   "source": [
    "Made by :                                                                                                                        \n",
    "Amanda Nicole ENGOLE                                                                                                                \n",
    "Freedel ZINSOU-PLY                                                                                                                 \n",
    "Ngutor Emmanuel CHAGBE                                                                                                               \n",
    "Yann M'POUE"
   ]
  },
  {
   "cell_type": "markdown",
   "id": "90d33b93",
   "metadata": {},
   "source": [
    "The objective of this project is to predict the book's rating thanks to the different variables of our database.\n",
    "We followed several steps to reach this goal."
   ]
  },
  {
   "cell_type": "markdown",
   "id": "253c324a",
   "metadata": {},
   "source": [
    "### Data cleaning  \n",
    "In a first step we cleaned the data:\n",
    "\n",
    "-Checking of null values\n",
    "\n",
    "-Checking the dates that do not respect the correct format or that have outliers \n",
    "\n",
    "-Checking of numeric fields that have alphabetic fields  "
   ]
  },
  {
   "cell_type": "markdown",
   "id": "4b5ec27c",
   "metadata": {},
   "source": [
    "### Feature selection :                                                                                                              \n",
    "Once our database is clean we proceed to the selection of our variables.                                                          \n",
    "We then created other variables from existing variables, while justifying and conducting a logical reasoning"
   ]
  },
  {
   "cell_type": "markdown",
   "id": "e80c67a5",
   "metadata": {},
   "source": [
    "### Data explanatory:                                                                                                                \n",
    "Our data being clean and our variables selected, we have therefore proceeded to the exploitation of our data through descriptive statistics thanks to tables and graphs. This part allowed us to deepen our knowledge about the data and to prepare how we could\n",
    "predict the variable of interest."
   ]
  },
  {
   "cell_type": "code",
   "execution_count": 235,
   "id": "cd4af8d7",
   "metadata": {},
   "outputs": [],
   "source": [
    "import pandas as pd\n",
    "import numpy as np\n",
    "import matplotlib.pyplot as plt\n",
    "import datetime \n",
    "from sklearn import preprocessing\n",
    "from sklearn.linear_model import LinearRegression\n",
    "from sklearn.model_selection import train_test_split"
   ]
  },
  {
   "cell_type": "code",
   "execution_count": 173,
   "id": "de06db25",
   "metadata": {},
   "outputs": [],
   "source": [
    "#Importation of data base\n",
    "data = pd.read_csv(r\"C:\\Users\\33758\\Downloads\\books - books.csv\",sep=';')\n",
    "df = pd.read_csv(\"C:/Users/33758/Downloads/books.csv\",sep=\",\",index_col=\"bookID\")"
   ]
  },
  {
   "cell_type": "code",
   "execution_count": null,
   "id": "c9c5f1d4",
   "metadata": {},
   "outputs": [],
   "source": [
    "data = pd.read_csv(\"C:/Users/33758/Downloads/books.csv\", error_bad_lines=False)"
   ]
  },
  {
   "cell_type": "markdown",
   "id": "a744ef6d",
   "metadata": {},
   "source": [
    "### Data Cleaning "
   ]
  },
  {
   "cell_type": "code",
   "execution_count": 196,
   "id": "713cba7a",
   "metadata": {},
   "outputs": [
    {
     "data": {
      "text/plain": [
       "bookID                  int64\n",
       "title                  object\n",
       "authors                object\n",
       "average_rating        float64\n",
       "isbn                   object\n",
       "isbn13                  int64\n",
       "language_code          object\n",
       "  num_pages             int64\n",
       "ratings_count           int64\n",
       "text_reviews_count      int64\n",
       "publication_date       object\n",
       "publisher              object\n",
       "dtype: object"
      ]
     },
     "execution_count": 196,
     "metadata": {},
     "output_type": "execute_result"
    }
   ],
   "source": [
    "# type checks for variables \n",
    "data.dtypes"
   ]
  },
  {
   "cell_type": "code",
   "execution_count": 197,
   "id": "750b52be",
   "metadata": {},
   "outputs": [
    {
     "data": {
      "text/plain": [
       "bookID                False\n",
       "title                 False\n",
       "authors               False\n",
       "average_rating        False\n",
       "isbn                  False\n",
       "isbn13                False\n",
       "language_code         False\n",
       "  num_pages           False\n",
       "ratings_count         False\n",
       "text_reviews_count    False\n",
       "publication_date      False\n",
       "publisher             False\n",
       "dtype: bool"
      ]
     },
     "execution_count": 197,
     "metadata": {},
     "output_type": "execute_result"
    }
   ],
   "source": [
    "# check null_values()\n",
    "data.isnull().any()\n",
    "#We don't have any missing values "
   ]
  },
  {
   "cell_type": "code",
   "execution_count": 201,
   "id": "4c9407b2",
   "metadata": {},
   "outputs": [
    {
     "data": {
      "text/html": [
       "<div>\n",
       "<style scoped>\n",
       "    .dataframe tbody tr th:only-of-type {\n",
       "        vertical-align: middle;\n",
       "    }\n",
       "\n",
       "    .dataframe tbody tr th {\n",
       "        vertical-align: top;\n",
       "    }\n",
       "\n",
       "    .dataframe thead th {\n",
       "        text-align: right;\n",
       "    }\n",
       "</style>\n",
       "<table border=\"1\" class=\"dataframe\">\n",
       "  <thead>\n",
       "    <tr style=\"text-align: right;\">\n",
       "      <th></th>\n",
       "      <th>bookID</th>\n",
       "      <th>title</th>\n",
       "      <th>authors</th>\n",
       "      <th>average_rating</th>\n",
       "      <th>isbn</th>\n",
       "      <th>isbn13</th>\n",
       "      <th>language_code</th>\n",
       "      <th>num_pages</th>\n",
       "      <th>ratings_count</th>\n",
       "      <th>text_reviews_count</th>\n",
       "      <th>publication_date</th>\n",
       "      <th>publisher</th>\n",
       "    </tr>\n",
       "  </thead>\n",
       "  <tbody>\n",
       "  </tbody>\n",
       "</table>\n",
       "</div>"
      ],
      "text/plain": [
       "Empty DataFrame\n",
       "Columns: [bookID, title, authors, average_rating, isbn, isbn13, language_code,   num_pages, ratings_count, text_reviews_count, publication_date, publisher]\n",
       "Index: []"
      ]
     },
     "execution_count": 201,
     "metadata": {},
     "output_type": "execute_result"
    }
   ],
   "source": [
    "#check duplicate rows \n",
    "data[data.duplicated()]\n",
    "#we got none duplicate row which is good"
   ]
  },
  {
   "cell_type": "code",
   "execution_count": 204,
   "id": "7ae34968",
   "metadata": {},
   "outputs": [],
   "source": [
    "###check if we have any errors in the dates. Example: a month that exceeds 12?a day that exceeds 31"
   ]
  },
  {
   "cell_type": "code",
   "execution_count": 233,
   "id": "6b783950",
   "metadata": {},
   "outputs": [
    {
     "data": {
      "text/plain": [
       "5"
      ]
     },
     "execution_count": 233,
     "metadata": {},
     "output_type": "execute_result"
    }
   ],
   "source": [
    "# We noticed that somes books are not books, thoses books have theirs authors as : \"NOT A BOOK\" and there are 5.\n",
    "# We will remove them because we try to predict books\n",
    "len(data[data['authors']=='NOT A BOOK'])"
   ]
  },
  {
   "cell_type": "markdown",
   "id": "55bb9e39",
   "metadata": {},
   "source": [
    "In summary we have no null value, no duplicate line and we have 5 books that are NOT BOOKS (the authors is NOT A BOOK) and as we can see the num_pages is less than 30. We will not use them in our prediction because we are predicting the rating of the books \n",
    "So we will remove them to make our prediction "
   ]
  },
  {
   "cell_type": "markdown",
   "id": "cb8576ee",
   "metadata": {},
   "source": [
    "## Explonatory data"
   ]
  },
  {
   "cell_type": "code",
   "execution_count": 270,
   "id": "832ac0d3",
   "metadata": {},
   "outputs": [],
   "source": [
    "#Let's see who have written the most "
   ]
  },
  {
   "cell_type": "code",
   "execution_count": 362,
   "id": "d61849b1",
   "metadata": {},
   "outputs": [
    {
     "name": "stderr",
     "output_type": "stream",
     "text": [
      "C:\\Users\\33758\\anaconda3\\lib\\site-packages\\seaborn\\_decorators.py:36: FutureWarning: Pass the following variables as keyword args: x, y. From version 0.12, the only valid positional argument will be `data`, and passing other arguments without an explicit keyword will result in an error or misinterpretation.\n",
      "  warnings.warn(\n"
     ]
    },
    {
     "data": {
      "image/png": "[encoded data removed]",
      "text/plain": [
       "<Figure size 720x360 with 1 Axes>"
      ]
     },
     "metadata": {
      "needs_background": "light"
     },
     "output_type": "display_data"
    }
   ],
   "source": [
    "city_count  = data['authors'].value_counts()\n",
    "city_count = city_count[:10,]\n",
    "plt.figure(figsize=(10,5))\n",
    "sns.barplot(city_count.values, city_count.index, alpha=0.8)\n",
    "plt.title('Top 10 peoples who have written the most ')\n",
    "plt.ylabel('Number of the books', fontsize=12)\n",
    "plt.xlabel('authors name', fontsize=12)\n",
    "plt.show()"
   ]
  },
  {
   "cell_type": "code",
   "execution_count": 392,
   "id": "af9586c5",
   "metadata": {},
   "outputs": [
    {
     "data": {
      "text/plain": [
       "22.830980850489976"
      ]
     },
     "execution_count": 392,
     "metadata": {},
     "output_type": "execute_result"
    }
   ],
   "source": [
    "#Let's see the average age of publication of books\n",
    "data['publication_year']=data.apply(lambda x: x['publication_date'][-4:], axis=1) #First , we will create a columns publication_year\n",
    "data['publication_year'] = pd.to_numeric(df['publication_year'])\n",
    "data['book_age']=data.publication_year.apply(lambda x: x if x < 1 else 2023-x) # Then we Create Book age column using published year"
   ]
  },
  {
   "cell_type": "code",
   "execution_count": 395,
   "id": "4f3f1f53",
   "metadata": {},
   "outputs": [
    {
     "data": {
      "text/plain": [
       "<seaborn.axisgrid.FacetGrid at 0x14fef089940>"
      ]
     },
     "execution_count": 395,
     "metadata": {},
     "output_type": "execute_result"
    },
    {
     "data": {
      "image/png": "[encoded data removed]",
      "text/plain": [
       "<Figure size 360x360 with 1 Axes>"
      ]
     },
     "metadata": {
      "needs_background": "light"
     },
     "output_type": "display_data"
    }
   ],
   "source": [
    "sns.displot(data.book_age) "
   ]
  },
  {
   "cell_type": "code",
   "execution_count": 397,
   "id": "a0d36e9e",
   "metadata": {},
   "outputs": [
    {
     "data": {
      "text/plain": [
       "22.830980850489976"
      ]
     },
     "execution_count": 397,
     "metadata": {},
     "output_type": "execute_result"
    }
   ],
   "source": [
    "data['book_age'].mean()"
   ]
  },
  {
   "cell_type": "code",
   "execution_count": null,
   "id": "ae1084dd",
   "metadata": {},
   "outputs": [],
   "source": [
    "#The publication age of books is 23 years old"
   ]
  },
  {
   "cell_type": "code",
   "execution_count": 366,
   "id": "f088e894",
   "metadata": {},
   "outputs": [
    {
     "name": "stderr",
     "output_type": "stream",
     "text": [
      "C:\\Users\\33758\\anaconda3\\lib\\site-packages\\seaborn\\_decorators.py:36: FutureWarning: Pass the following variables as keyword args: x, y. From version 0.12, the only valid positional argument will be `data`, and passing other arguments without an explicit keyword will result in an error or misinterpretation.\n",
      "  warnings.warn(\n"
     ]
    },
    {
     "data": {
      "image/png": "[encoded data removed]",
      "text/plain": [
       "<Figure size 720x360 with 1 Axes>"
      ]
     },
     "metadata": {
      "needs_background": "light"
     },
     "output_type": "display_data"
    }
   ],
   "source": [
    "#Let's see in which language the books have been registered the most\n",
    "languages_code_occurence = data['language_code'].value_counts()\n",
    "languages_code_occurence = languages_code_occurence[:10,]\n",
    "plt.figure(figsize=(10,5))\n",
    "sns.barplot(city_count.values, city_count.index, alpha=0.8)\n",
    "plt.title('Top 10 peoples who have written the most ')\n",
    "plt.ylabel('Number of the books', fontsize=12)\n",
    "plt.xlabel('authors name', fontsize=12)\n",
    "plt.show()"
   ]
  },
  {
   "cell_type": "code",
   "execution_count": 376,
   "id": "b745c4ce",
   "metadata": {},
   "outputs": [],
   "source": [
    "#Let's see which authors write most successful books\n",
    "#Assume that a books is very successful when it has a rating between (4.5 and 5), \n",
    "#so first lets take all information about books that got average rating between 4 and 5\n",
    "# and then lets see  Who has written the most best sellers\n",
    "books_succesful=data[(data[\"average_rating\"]> 4) & (data[\"average_rating\"]<5)]"
   ]
  },
  {
   "cell_type": "code",
   "execution_count": 377,
   "id": "a0dbac0c",
   "metadata": {
    "scrolled": false
   },
   "outputs": [
    {
     "name": "stderr",
     "output_type": "stream",
     "text": [
      "C:\\Users\\33758\\anaconda3\\lib\\site-packages\\seaborn\\_decorators.py:36: FutureWarning: Pass the following variables as keyword args: x, y. From version 0.12, the only valid positional argument will be `data`, and passing other arguments without an explicit keyword will result in an error or misinterpretation.\n",
      "  warnings.warn(\n"
     ]
    },
    {
     "data": {
      "image/png": "[encoded data removed]",
      "text/plain": [
       "<Figure size 720x360 with 1 Axes>"
      ]
     },
     "metadata": {
      "needs_background": "light"
     },
     "output_type": "display_data"
    }
   ],
   "source": [
    "best_seller = books_succesful['authors'].value_counts()\n",
    "best_seller= best_seller[:10,]\n",
    "plt.figure(figsize=(10,5))\n",
    "sns.barplot(best_seller.values, best_seller.index, alpha=0.8)\n",
    "plt.title('Top 10 peoples who have written most succesfull book')\n",
    "plt.ylabel('Number of the successfull books', fontsize=12)\n",
    "plt.xlabel('authors name', fontsize=12)\n",
    "plt.show()"
   ]
  },
  {
   "cell_type": "code",
   "execution_count": 25,
   "id": "de177ed9",
   "metadata": {},
   "outputs": [],
   "source": [
    "#We notice that among the top 10 people who wrote good books, we find the 4 people who wrote the most books like\n",
    "#Rumiko Takahashi, PG Wodehouse, Agatha Christie, Stephen King who are in the top 5 of people who have written the most good books.\n",
    "#So we can deduce that these authors have not only written a lot of books but have written at least more than 10 successful books.\n",
    "#They are therefore very good authors "
   ]
  },
  {
   "cell_type": "code",
   "execution_count": null,
   "id": "78cd73ad",
   "metadata": {},
   "outputs": [],
   "source": [
    "#Let's calculate the bestseller rate. The bestseller rate is the number of bestsellers written/number of books written"
   ]
  },
  {
   "cell_type": "code",
   "execution_count": null,
   "id": "f695b826",
   "metadata": {},
   "outputs": [],
   "source": [
    "#Who is the best author?\n",
    "#I define by the best author the one who has the proportion of very good book written compared to the number of book written\n",
    "#A very good book being a book with an average rating in [4.5,5]."
   ]
  },
  {
   "cell_type": "code",
   "execution_count": 382,
   "id": "41e70851",
   "metadata": {},
   "outputs": [],
   "source": [
    "#This algorithm allows to put in three lists respectively nb_books,nb_best_books,perc_best_books the total number of books written\n",
    "#by an author, the total number of best books written by the author and finally the proportion of best book written by the author\n",
    "nb_books =[]\n",
    "nb_best_books=[]\n",
    "perc_best_book=[]\n",
    "for i in authors :\n",
    "    b=data[data[\"authors\"]==i] \n",
    "    b1=len(b[(b['average_rating']>=4.5) & (b['average_rating']<=5)])\n",
    "    b2=len(b)\n",
    "    b3=(b1/b2)*100\n",
    "    nb_books.append(b2)\n",
    "    nb_best_books.append(b1)\n",
    "    perc_best_book.append(b3)"
   ]
  },
  {
   "cell_type": "code",
   "execution_count": 387,
   "id": "d96e6d24",
   "metadata": {},
   "outputs": [],
   "source": [
    "#Once the data is put into lists, a database is built to allow all the information to be put together\n",
    "BS=pd.DataFrame(np.column_stack([authors,nb_books,nb_best_books, perc_best_book]),columns=[\"authors\",\"nb_books\",\"nb_best_books\", \"perc_best_book\"])"
   ]
  },
  {
   "cell_type": "code",
   "execution_count": 389,
   "id": "078f32a3",
   "metadata": {},
   "outputs": [],
   "source": [
    "#I sort my database by the varibal (perc_best_book) i.e. the proportion of books to the number of books \n",
    "BS=BS.sort_values(by=[\"perc_best_book\"],ascending=False)"
   ]
  },
  {
   "cell_type": "code",
   "execution_count": 390,
   "id": "079d671d",
   "metadata": {},
   "outputs": [
    {
     "data": {
      "text/html": [
       "<div>\n",
       "<style scoped>\n",
       "    .dataframe tbody tr th:only-of-type {\n",
       "        vertical-align: middle;\n",
       "    }\n",
       "\n",
       "    .dataframe tbody tr th {\n",
       "        vertical-align: top;\n",
       "    }\n",
       "\n",
       "    .dataframe thead th {\n",
       "        text-align: right;\n",
       "    }\n",
       "</style>\n",
       "<table border=\"1\" class=\"dataframe\">\n",
       "  <thead>\n",
       "    <tr style=\"text-align: right;\">\n",
       "      <th></th>\n",
       "      <th>authors</th>\n",
       "      <th>nb_books</th>\n",
       "      <th>nb_best_books</th>\n",
       "      <th>perc_best_book</th>\n",
       "    </tr>\n",
       "  </thead>\n",
       "  <tbody>\n",
       "    <tr>\n",
       "      <th>1243</th>\n",
       "      <td>Middlesex Borough Heritage Committee</td>\n",
       "      <td>1</td>\n",
       "      <td>1</td>\n",
       "      <td>100.0</td>\n",
       "    </tr>\n",
       "    <tr>\n",
       "      <th>6589</th>\n",
       "      <td>Bill Watterson</td>\n",
       "      <td>7</td>\n",
       "      <td>7</td>\n",
       "      <td>100.0</td>\n",
       "    </tr>\n",
       "    <tr>\n",
       "      <th>7512</th>\n",
       "      <td>J.R.R. Tolkien/Rob Inglis</td>\n",
       "      <td>2</td>\n",
       "      <td>2</td>\n",
       "      <td>100.0</td>\n",
       "    </tr>\n",
       "    <tr>\n",
       "      <th>145</th>\n",
       "      <td>Ralph Ginzburg</td>\n",
       "      <td>1</td>\n",
       "      <td>1</td>\n",
       "      <td>100.0</td>\n",
       "    </tr>\n",
       "    <tr>\n",
       "      <th>3825</th>\n",
       "      <td>Mikhail Tal/Hanon W. Russell</td>\n",
       "      <td>1</td>\n",
       "      <td>1</td>\n",
       "      <td>100.0</td>\n",
       "    </tr>\n",
       "    <tr>\n",
       "      <th>...</th>\n",
       "      <td>...</td>\n",
       "      <td>...</td>\n",
       "      <td>...</td>\n",
       "      <td>...</td>\n",
       "    </tr>\n",
       "    <tr>\n",
       "      <th>8714</th>\n",
       "      <td>Ian Edginton/Simon Fraser</td>\n",
       "      <td>2</td>\n",
       "      <td>1</td>\n",
       "      <td>50.0</td>\n",
       "    </tr>\n",
       "    <tr>\n",
       "      <th>6198</th>\n",
       "      <td>David R. Hawkins</td>\n",
       "      <td>4</td>\n",
       "      <td>2</td>\n",
       "      <td>50.0</td>\n",
       "    </tr>\n",
       "    <tr>\n",
       "      <th>626</th>\n",
       "      <td>Raymond Chandler/Frank MacShane</td>\n",
       "      <td>2</td>\n",
       "      <td>1</td>\n",
       "      <td>50.0</td>\n",
       "    </tr>\n",
       "    <tr>\n",
       "      <th>1531</th>\n",
       "      <td>Don Rosa</td>\n",
       "      <td>2</td>\n",
       "      <td>1</td>\n",
       "      <td>50.0</td>\n",
       "    </tr>\n",
       "    <tr>\n",
       "      <th>4125</th>\n",
       "      <td>Tim Bogenn</td>\n",
       "      <td>2</td>\n",
       "      <td>1</td>\n",
       "      <td>50.0</td>\n",
       "    </tr>\n",
       "  </tbody>\n",
       "</table>\n",
       "<p>230 rows × 4 columns</p>\n",
       "</div>"
      ],
      "text/plain": [
       "                                   authors nb_books nb_best_books  \\\n",
       "1243  Middlesex Borough Heritage Committee        1             1   \n",
       "6589                        Bill Watterson        7             7   \n",
       "7512             J.R.R. Tolkien/Rob Inglis        2             2   \n",
       "145                         Ralph Ginzburg        1             1   \n",
       "3825          Mikhail Tal/Hanon W. Russell        1             1   \n",
       "...                                    ...      ...           ...   \n",
       "8714             Ian Edginton/Simon Fraser        2             1   \n",
       "6198                      David R. Hawkins        4             2   \n",
       "626        Raymond Chandler/Frank MacShane        2             1   \n",
       "1531                              Don Rosa        2             1   \n",
       "4125                            Tim Bogenn        2             1   \n",
       "\n",
       "     perc_best_book  \n",
       "1243          100.0  \n",
       "6589          100.0  \n",
       "7512          100.0  \n",
       "145           100.0  \n",
       "3825          100.0  \n",
       "...             ...  \n",
       "8714           50.0  \n",
       "6198           50.0  \n",
       "626            50.0  \n",
       "1531           50.0  \n",
       "4125           50.0  \n",
       "\n",
       "[230 rows x 4 columns]"
      ]
     },
     "execution_count": 390,
     "metadata": {},
     "output_type": "execute_result"
    }
   ],
   "source": [
    "#I look at who are the ones with a perc_best_book >=50%. Authors who have a perc_best_book >=50% ar\n",
    "BS[BS[\"perc_best_book\"]>=50]"
   ]
  },
  {
   "cell_type": "code",
   "execution_count": null,
   "id": "24593b77",
   "metadata": {},
   "outputs": [],
   "source": [
    "#We have 230 authors with more than half of their books being bestsellers"
   ]
  },
  {
   "cell_type": "code",
   "execution_count": null,
   "id": "6f34960a",
   "metadata": {},
   "outputs": [],
   "source": [
    "#Voyons les valeurs  numériques corrélés à notre variable d'intêret"
   ]
  },
  {
   "cell_type": "code",
   "execution_count": 412,
   "id": "4b089738",
   "metadata": {},
   "outputs": [
    {
     "data": {
      "text/html": [
       "<div>\n",
       "<style scoped>\n",
       "    .dataframe tbody tr th:only-of-type {\n",
       "        vertical-align: middle;\n",
       "    }\n",
       "\n",
       "    .dataframe tbody tr th {\n",
       "        vertical-align: top;\n",
       "    }\n",
       "\n",
       "    .dataframe thead th {\n",
       "        text-align: right;\n",
       "    }\n",
       "</style>\n",
       "<table border=\"1\" class=\"dataframe\">\n",
       "  <thead>\n",
       "    <tr style=\"text-align: right;\">\n",
       "      <th></th>\n",
       "      <th>bookID</th>\n",
       "      <th>title</th>\n",
       "      <th>authors</th>\n",
       "      <th>average_rating</th>\n",
       "      <th>isbn</th>\n",
       "      <th>isbn13</th>\n",
       "      <th>language_code</th>\n",
       "      <th>num_pages</th>\n",
       "      <th>ratings_count</th>\n",
       "      <th>text_reviews_count</th>\n",
       "      <th>publication_date</th>\n",
       "      <th>publisher</th>\n",
       "      <th>publication_year</th>\n",
       "      <th>book_age</th>\n",
       "    </tr>\n",
       "  </thead>\n",
       "  <tbody>\n",
       "    <tr>\n",
       "      <th>0</th>\n",
       "      <td>1</td>\n",
       "      <td>Harry Potter and the Half-Blood Prince (Harry ...</td>\n",
       "      <td>J.K. Rowling/Mary GrandPré</td>\n",
       "      <td>4.57</td>\n",
       "      <td>0439785960</td>\n",
       "      <td>9780439785969</td>\n",
       "      <td>eng</td>\n",
       "      <td>652</td>\n",
       "      <td>2095690</td>\n",
       "      <td>27591</td>\n",
       "      <td>9/16/2006</td>\n",
       "      <td>Scholastic Inc.</td>\n",
       "      <td>2006</td>\n",
       "      <td>17</td>\n",
       "    </tr>\n",
       "    <tr>\n",
       "      <th>1</th>\n",
       "      <td>2</td>\n",
       "      <td>Harry Potter and the Order of the Phoenix (Har...</td>\n",
       "      <td>J.K. Rowling/Mary GrandPré</td>\n",
       "      <td>4.49</td>\n",
       "      <td>0439358078</td>\n",
       "      <td>9780439358071</td>\n",
       "      <td>eng</td>\n",
       "      <td>870</td>\n",
       "      <td>2153167</td>\n",
       "      <td>29221</td>\n",
       "      <td>9/1/2004</td>\n",
       "      <td>Scholastic Inc.</td>\n",
       "      <td>2004</td>\n",
       "      <td>19</td>\n",
       "    </tr>\n",
       "    <tr>\n",
       "      <th>2</th>\n",
       "      <td>4</td>\n",
       "      <td>Harry Potter and the Chamber of Secrets (Harry...</td>\n",
       "      <td>J.K. Rowling</td>\n",
       "      <td>4.42</td>\n",
       "      <td>0439554896</td>\n",
       "      <td>9780439554893</td>\n",
       "      <td>eng</td>\n",
       "      <td>352</td>\n",
       "      <td>6333</td>\n",
       "      <td>244</td>\n",
       "      <td>11/1/2003</td>\n",
       "      <td>Scholastic</td>\n",
       "      <td>2003</td>\n",
       "      <td>20</td>\n",
       "    </tr>\n",
       "    <tr>\n",
       "      <th>3</th>\n",
       "      <td>5</td>\n",
       "      <td>Harry Potter and the Prisoner of Azkaban (Harr...</td>\n",
       "      <td>J.K. Rowling/Mary GrandPré</td>\n",
       "      <td>4.56</td>\n",
       "      <td>043965548X</td>\n",
       "      <td>9780439655484</td>\n",
       "      <td>eng</td>\n",
       "      <td>435</td>\n",
       "      <td>2339585</td>\n",
       "      <td>36325</td>\n",
       "      <td>5/1/2004</td>\n",
       "      <td>Scholastic Inc.</td>\n",
       "      <td>2004</td>\n",
       "      <td>19</td>\n",
       "    </tr>\n",
       "    <tr>\n",
       "      <th>4</th>\n",
       "      <td>8</td>\n",
       "      <td>Harry Potter Boxed Set  Books 1-5 (Harry Potte...</td>\n",
       "      <td>J.K. Rowling/Mary GrandPré</td>\n",
       "      <td>4.78</td>\n",
       "      <td>0439682584</td>\n",
       "      <td>9780439682589</td>\n",
       "      <td>eng</td>\n",
       "      <td>2690</td>\n",
       "      <td>41428</td>\n",
       "      <td>164</td>\n",
       "      <td>9/13/2004</td>\n",
       "      <td>Scholastic</td>\n",
       "      <td>2004</td>\n",
       "      <td>19</td>\n",
       "    </tr>\n",
       "    <tr>\n",
       "      <th>...</th>\n",
       "      <td>...</td>\n",
       "      <td>...</td>\n",
       "      <td>...</td>\n",
       "      <td>...</td>\n",
       "      <td>...</td>\n",
       "      <td>...</td>\n",
       "      <td>...</td>\n",
       "      <td>...</td>\n",
       "      <td>...</td>\n",
       "      <td>...</td>\n",
       "      <td>...</td>\n",
       "      <td>...</td>\n",
       "      <td>...</td>\n",
       "      <td>...</td>\n",
       "    </tr>\n",
       "    <tr>\n",
       "      <th>11118</th>\n",
       "      <td>45631</td>\n",
       "      <td>Expelled from Eden: A William T. Vollmann Reader</td>\n",
       "      <td>William T. Vollmann/Larry McCaffery/Michael He...</td>\n",
       "      <td>4.06</td>\n",
       "      <td>1560254416</td>\n",
       "      <td>9781560254416</td>\n",
       "      <td>eng</td>\n",
       "      <td>512</td>\n",
       "      <td>156</td>\n",
       "      <td>20</td>\n",
       "      <td>12/21/2004</td>\n",
       "      <td>Da Capo Press</td>\n",
       "      <td>2004</td>\n",
       "      <td>19</td>\n",
       "    </tr>\n",
       "    <tr>\n",
       "      <th>11119</th>\n",
       "      <td>45633</td>\n",
       "      <td>You Bright and Risen Angels</td>\n",
       "      <td>William T. Vollmann</td>\n",
       "      <td>4.08</td>\n",
       "      <td>0140110879</td>\n",
       "      <td>9780140110876</td>\n",
       "      <td>eng</td>\n",
       "      <td>635</td>\n",
       "      <td>783</td>\n",
       "      <td>56</td>\n",
       "      <td>12/1/1988</td>\n",
       "      <td>Penguin Books</td>\n",
       "      <td>1988</td>\n",
       "      <td>35</td>\n",
       "    </tr>\n",
       "    <tr>\n",
       "      <th>11120</th>\n",
       "      <td>45634</td>\n",
       "      <td>The Ice-Shirt (Seven Dreams #1)</td>\n",
       "      <td>William T. Vollmann</td>\n",
       "      <td>3.96</td>\n",
       "      <td>0140131965</td>\n",
       "      <td>9780140131963</td>\n",
       "      <td>eng</td>\n",
       "      <td>415</td>\n",
       "      <td>820</td>\n",
       "      <td>95</td>\n",
       "      <td>8/1/1993</td>\n",
       "      <td>Penguin Books</td>\n",
       "      <td>1993</td>\n",
       "      <td>30</td>\n",
       "    </tr>\n",
       "    <tr>\n",
       "      <th>11121</th>\n",
       "      <td>45639</td>\n",
       "      <td>Poor People</td>\n",
       "      <td>William T. Vollmann</td>\n",
       "      <td>3.72</td>\n",
       "      <td>0060878827</td>\n",
       "      <td>9780060878825</td>\n",
       "      <td>eng</td>\n",
       "      <td>434</td>\n",
       "      <td>769</td>\n",
       "      <td>139</td>\n",
       "      <td>2/27/2007</td>\n",
       "      <td>Ecco</td>\n",
       "      <td>2007</td>\n",
       "      <td>16</td>\n",
       "    </tr>\n",
       "    <tr>\n",
       "      <th>11122</th>\n",
       "      <td>45641</td>\n",
       "      <td>Las aventuras de Tom Sawyer</td>\n",
       "      <td>Mark Twain</td>\n",
       "      <td>3.91</td>\n",
       "      <td>8497646983</td>\n",
       "      <td>9788497646987</td>\n",
       "      <td>spa</td>\n",
       "      <td>272</td>\n",
       "      <td>113</td>\n",
       "      <td>12</td>\n",
       "      <td>5/28/2006</td>\n",
       "      <td>Edimat Libros</td>\n",
       "      <td>2006</td>\n",
       "      <td>17</td>\n",
       "    </tr>\n",
       "  </tbody>\n",
       "</table>\n",
       "<p>11123 rows × 14 columns</p>\n",
       "</div>"
      ],
      "text/plain": [
       "       bookID                                              title  \\\n",
       "0           1  Harry Potter and the Half-Blood Prince (Harry ...   \n",
       "1           2  Harry Potter and the Order of the Phoenix (Har...   \n",
       "2           4  Harry Potter and the Chamber of Secrets (Harry...   \n",
       "3           5  Harry Potter and the Prisoner of Azkaban (Harr...   \n",
       "4           8  Harry Potter Boxed Set  Books 1-5 (Harry Potte...   \n",
       "...       ...                                                ...   \n",
       "11118   45631   Expelled from Eden: A William T. Vollmann Reader   \n",
       "11119   45633                        You Bright and Risen Angels   \n",
       "11120   45634                    The Ice-Shirt (Seven Dreams #1)   \n",
       "11121   45639                                        Poor People   \n",
       "11122   45641                        Las aventuras de Tom Sawyer   \n",
       "\n",
       "                                                 authors  average_rating  \\\n",
       "0                             J.K. Rowling/Mary GrandPré            4.57   \n",
       "1                             J.K. Rowling/Mary GrandPré            4.49   \n",
       "2                                           J.K. Rowling            4.42   \n",
       "3                             J.K. Rowling/Mary GrandPré            4.56   \n",
       "4                             J.K. Rowling/Mary GrandPré            4.78   \n",
       "...                                                  ...             ...   \n",
       "11118  William T. Vollmann/Larry McCaffery/Michael He...            4.06   \n",
       "11119                                William T. Vollmann            4.08   \n",
       "11120                                William T. Vollmann            3.96   \n",
       "11121                                William T. Vollmann            3.72   \n",
       "11122                                         Mark Twain            3.91   \n",
       "\n",
       "             isbn         isbn13 language_code    num_pages  ratings_count  \\\n",
       "0      0439785960  9780439785969           eng          652        2095690   \n",
       "1      0439358078  9780439358071           eng          870        2153167   \n",
       "2      0439554896  9780439554893           eng          352           6333   \n",
       "3      043965548X  9780439655484           eng          435        2339585   \n",
       "4      0439682584  9780439682589           eng         2690          41428   \n",
       "...           ...            ...           ...          ...            ...   \n",
       "11118  1560254416  9781560254416           eng          512            156   \n",
       "11119  0140110879  9780140110876           eng          635            783   \n",
       "11120  0140131965  9780140131963           eng          415            820   \n",
       "11121  0060878827  9780060878825           eng          434            769   \n",
       "11122  8497646983  9788497646987           spa          272            113   \n",
       "\n",
       "       text_reviews_count publication_date        publisher  publication_year  \\\n",
       "0                   27591        9/16/2006  Scholastic Inc.              2006   \n",
       "1                   29221         9/1/2004  Scholastic Inc.              2004   \n",
       "2                     244        11/1/2003       Scholastic              2003   \n",
       "3                   36325         5/1/2004  Scholastic Inc.              2004   \n",
       "4                     164        9/13/2004       Scholastic              2004   \n",
       "...                   ...              ...              ...               ...   \n",
       "11118                  20       12/21/2004    Da Capo Press              2004   \n",
       "11119                  56        12/1/1988    Penguin Books              1988   \n",
       "11120                  95         8/1/1993    Penguin Books              1993   \n",
       "11121                 139        2/27/2007             Ecco              2007   \n",
       "11122                  12        5/28/2006    Edimat Libros              2006   \n",
       "\n",
       "       book_age  \n",
       "0            17  \n",
       "1            19  \n",
       "2            20  \n",
       "3            19  \n",
       "4            19  \n",
       "...         ...  \n",
       "11118        19  \n",
       "11119        35  \n",
       "11120        30  \n",
       "11121        16  \n",
       "11122        17  \n",
       "\n",
       "[11123 rows x 14 columns]"
      ]
     },
     "execution_count": 412,
     "metadata": {},
     "output_type": "execute_result"
    }
   ],
   "source": [
    "data"
   ]
  },
  {
   "cell_type": "code",
   "execution_count": 413,
   "id": "61cb1fc6",
   "metadata": {},
   "outputs": [],
   "source": [
    "df = data[[\"average_rating\",\"isbn13\",\"ratings_count\",\"book_age\",\"text_reviews_count\"]]"
   ]
  },
  {
   "cell_type": "code",
   "execution_count": 414,
   "id": "fa6a5a0b",
   "metadata": {},
   "outputs": [
    {
     "data": {
      "image/png": "[encoded data removed]",
      "text/plain": [
       "<Figure size 576x432 with 2 Axes>"
      ]
     },
     "metadata": {
      "needs_background": "light"
     },
     "output_type": "display_data"
    }
   ],
   "source": [
    "corr_df = df.corr(method='pearson')\n",
    "plt.figure(figsize=(8, 6))\n",
    "sns.heatmap(corr_df, annot=True)\n",
    "plt.show()"
   ]
  },
  {
   "cell_type": "code",
   "execution_count": null,
   "id": "1247abd1",
   "metadata": {},
   "outputs": [],
   "source": [
    "#As we can see the variables rating_counts , book_age, text_reviews_count are positively related to our variable of interest even if it is weakly.\n",
    "#On the other hand the variable ISBN is negatively related to the variable of interest."
   ]
  },
  {
   "cell_type": "markdown",
   "id": "5b8bcae9",
   "metadata": {},
   "source": [
    "# Feature selection"
   ]
  },
  {
   "cell_type": "code",
   "execution_count": 428,
   "id": "cc3a1dfa",
   "metadata": {},
   "outputs": [],
   "source": [
    "#We create a variable language_code_2 because , we will hotencoding the variable language_code but before we want to reduce the size of the mosalities of that variable\n",
    "#creation of the variable\n",
    "def language(series):\n",
    "    if series == 'eng' or series=='en-US' or series=='en-GB' or series ==\"en-CA\":\n",
    "        return 'eng'\n",
    "    else:\n",
    "        return series\n",
    "\n",
    "data['language_code_2'] = data['language_code'].apply(language)\n",
    "        \n",
    "data['language_code_2'].value_counts()\n",
    "#Onehotencoding the variable\n",
    "dummy=pd.get_dummies(data['language_code_2'])\n",
    "data=pd.concat([data,dummy],axis=1)"
   ]
  },
  {
   "cell_type": "markdown",
   "id": "ae764080",
   "metadata": {},
   "source": [
    "### Prédictions"
   ]
  },
  {
   "cell_type": "code",
   "execution_count": null,
   "id": "573adeb9",
   "metadata": {},
   "outputs": [],
   "source": []
  }
 ],
 "metadata": {
  "kernelspec": {
   "display_name": "Python 3 (ipykernel)",
   "language": "python",
   "name": "python3"
  },
  "language_info": {
   "codemirror_mode": {
    "name": "ipython",
    "version": 3
   },
   "file_extension": ".py",
   "mimetype": "text/x-python",
   "name": "python",
   "nbconvert_exporter": "python",
   "pygments_lexer": "ipython3",
   "version": "3.9.7"
  }
 },
 "nbformat": 4,
 "nbformat_minor": 5
}
